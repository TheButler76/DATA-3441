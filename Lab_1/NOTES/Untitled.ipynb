{
 "cells": [
  {
   "cell_type": "code",
   "execution_count": 3,
   "id": "535f1368",
   "metadata": {},
   "outputs": [],
   "source": [
    "#DATA = [6, 47, 49, 15, 43, 41, 7, 39, 41, 36]\n",
    "DATA = [6, 7, 15, 36, 39, 41, 41, 43, 47, 49]\n",
    "MEAN = sum(DATA)/len(DATA)\n",
    "\n",
    "#IQR = Q1 - Q3"
   ]
  },
  {
   "cell_type": "code",
   "execution_count": 4,
   "id": "57abb79a",
   "metadata": {},
   "outputs": [
    {
     "data": {
      "text/plain": [
       "32.4"
      ]
     },
     "execution_count": 4,
     "metadata": {},
     "output_type": "execute_result"
    }
   ],
   "source": [
    "MEAN"
   ]
  },
  {
   "cell_type": "code",
   "execution_count": null,
   "id": "f425579a",
   "metadata": {},
   "outputs": [],
   "source": []
  }
 ],
 "metadata": {
  "kernelspec": {
   "display_name": "Python 3 (ipykernel)",
   "language": "python",
   "name": "python3"
  },
  "language_info": {
   "codemirror_mode": {
    "name": "ipython",
    "version": 3
   },
   "file_extension": ".py",
   "mimetype": "text/x-python",
   "name": "python",
   "nbconvert_exporter": "python",
   "pygments_lexer": "ipython3",
   "version": "3.12.3"
  }
 },
 "nbformat": 4,
 "nbformat_minor": 5
}
