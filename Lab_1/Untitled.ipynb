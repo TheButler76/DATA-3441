{
 "cells": [
  {
   "cell_type": "code",
   "execution_count": null,
   "id": "326e78e2-4e47-4efc-8184-882359420626",
   "metadata": {},
   "outputs": [],
   "source": [
    "LUNCH BREAK, BE BACK SOON."
   ]
  },
  {
   "cell_type": "code",
   "execution_count": null,
   "id": "f712399b-8e81-45f8-b645-f7361b1ba49d",
   "metadata": {},
   "outputs": [
    {
     "name": "stdout",
     "output_type": "stream",
     "text": [
      "countdown begins\n",
      "24:01"
     ]
    }
   ],
   "source": [
    "import time\n",
    "\n",
    "def countdown(seconds):\n",
    "    print(\"countdown begins\")\n",
    "    while seconds:\n",
    "        mins, secs = divmod(seconds, 60)\n",
    "        timer = f\"{mins:02d}:{secs:02d}\"\n",
    "        print(timer, end=\"\\r\")\n",
    "        time.sleep(1)\n",
    "        seconds -= 1\n",
    "    print(\"Time's up!\")\n",
    "\n",
    "# Example: countdown from 10 seconds\n",
    "countdown(60 * 25)"
   ]
  },
  {
   "cell_type": "code",
   "execution_count": null,
   "id": "71c19da5-7b9a-439c-a1f5-021bf3e8512a",
   "metadata": {},
   "outputs": [],
   "source": []
  }
 ],
 "metadata": {
  "kernelspec": {
   "display_name": "Python 3 (ipykernel)",
   "language": "python",
   "name": "python3"
  },
  "language_info": {
   "codemirror_mode": {
    "name": "ipython",
    "version": 3
   },
   "file_extension": ".py",
   "mimetype": "text/x-python",
   "name": "python",
   "nbconvert_exporter": "python",
   "pygments_lexer": "ipython3",
   "version": "3.10.12"
  }
 },
 "nbformat": 4,
 "nbformat_minor": 5
}
