{
 "cells": [
  {
   "cell_type": "markdown",
   "id": "4e204372",
   "metadata": {},
   "source": [
    "#### For this program, we will trivialize the sub points of each question.\n",
    "#### For example, if Question 1 has 5 parts, each part will be represented\n",
    "#### with the letters (a-e).\n",
    "\n",
    ">##### We have to first make a print function that accepts text input.\n",
    ">> ##### Additionally, we can make logic to accept more input to sort the question by alpha(a-e)\n",
    ">> ##### We need some more logic to ensure that no errors are involved.\n"
   ]
  },
  {
   "cell_type": "code",
   "execution_count": 84,
   "id": "f5a47deb",
   "metadata": {},
   "outputs": [],
   "source": [
    "def print_message(message, verbose=True):\n",
    "    if verbose:\n",
    "        print(message)\n",
    "        \n",
    "Question_lib = {\n",
    "    1:[\"What are the cases?\",\n",
    "       \"Identify the variables and their possible values.\",\n",
    "       \"Classify each variable as categorical or quantitative.\",\n",
    "       \"Was a label used? Explain your answer.\",\n",
    "        \"Summarize the key characteristics of your data set.\"],\n",
    "    2:[\"What are the cases?\",\n",
    "       \"Identify the variables and their possible values.\",\n",
    "       \"Classify each variable as categorical or quantitative.\",\n",
    "       \"Was a label used? Explain your answer.\",\n",
    "        \"Summarize the key characteristics of your data set.\"],\n",
    "    3:[\"What are the cases for this set of data?\",\n",
    "      \"Is there a label variable? If yes, what is it?\",\n",
    "      \"Identify each variable as categorical or quantitative\",\n",
    "      \"Explain how you might use each of the quantitative variables to explain something about the states.\",\n",
    "      \"\"\"Consider a variable computed as the number of students in each state who attend\n",
    "college in the state divided by the total number of students from the state who attend\n",
    "college. Explain how you would use this variable to explain something about the\n",
    "states\"\"\"]\n",
    "}\n",
    "Question_lib_revised=Question_lib.copy()"
   ]
  },
  {
   "cell_type": "code",
   "execution_count": 86,
   "id": "75c8e874",
   "metadata": {},
   "outputs": [
    {
     "name": "stdout",
     "output_type": "stream",
     "text": [
      "Question (1):\n",
      "What are the cases?\n",
      "Enter in your answer here: yaya\n",
      "Identify the variables and their possible values.\n",
      "Enter in your answer here: yaya\n",
      "Classify each variable as categorical or quantitative.\n",
      "Enter in your answer here: ayay\n",
      "Was a label used? Explain your answer.\n",
      "Enter in your answer here: ay\n",
      "Summarize the key characteristics of your data set.\n",
      "Enter in your answer here: ya\n",
      "Question (2):\n",
      "What are the cases?\n",
      "Enter in your answer here: aya\n",
      "Identify the variables and their possible values.\n"
     ]
    },
    {
     "ename": "KeyboardInterrupt",
     "evalue": "Interrupted by user",
     "output_type": "error",
     "traceback": [
      "\u001b[0;31m---------------------------------------------------------------------------\u001b[0m",
      "\u001b[0;31mKeyboardInterrupt\u001b[0m                         Traceback (most recent call last)",
      "Cell \u001b[0;32mIn[86], line 6\u001b[0m\n\u001b[1;32m      4\u001b[0m \u001b[38;5;28;01mfor\u001b[39;00m k \u001b[38;5;129;01min\u001b[39;00m Question_lib[i]:\n\u001b[1;32m      5\u001b[0m     \u001b[38;5;28mprint\u001b[39m(k)\n\u001b[0;32m----> 6\u001b[0m     entry\u001b[38;5;241m=\u001b[39m\u001b[38;5;28;43minput\u001b[39;49m\u001b[43m(\u001b[49m\u001b[38;5;124;43m\"\u001b[39;49m\u001b[38;5;124;43mEnter in your answer here: \u001b[39;49m\u001b[38;5;124;43m\"\u001b[39;49m\u001b[43m)\u001b[49m\n\u001b[1;32m      7\u001b[0m     answer_list\u001b[38;5;241m.\u001b[39mappend(entry)\n\u001b[1;32m      8\u001b[0m answer_list\n",
      "File \u001b[0;32m/usr/lib/python3/dist-packages/ipykernel/kernelbase.py:1282\u001b[0m, in \u001b[0;36mKernel.raw_input\u001b[0;34m(self, prompt)\u001b[0m\n\u001b[1;32m   1280\u001b[0m     msg \u001b[38;5;241m=\u001b[39m \u001b[38;5;124m\"\u001b[39m\u001b[38;5;124mraw_input was called, but this frontend does not support input requests.\u001b[39m\u001b[38;5;124m\"\u001b[39m\n\u001b[1;32m   1281\u001b[0m     \u001b[38;5;28;01mraise\u001b[39;00m StdinNotImplementedError(msg)\n\u001b[0;32m-> 1282\u001b[0m \u001b[38;5;28;01mreturn\u001b[39;00m \u001b[38;5;28;43mself\u001b[39;49m\u001b[38;5;241;43m.\u001b[39;49m\u001b[43m_input_request\u001b[49m\u001b[43m(\u001b[49m\n\u001b[1;32m   1283\u001b[0m \u001b[43m    \u001b[49m\u001b[38;5;28;43mstr\u001b[39;49m\u001b[43m(\u001b[49m\u001b[43mprompt\u001b[49m\u001b[43m)\u001b[49m\u001b[43m,\u001b[49m\n\u001b[1;32m   1284\u001b[0m \u001b[43m    \u001b[49m\u001b[38;5;28;43mself\u001b[39;49m\u001b[38;5;241;43m.\u001b[39;49m\u001b[43m_parent_ident\u001b[49m\u001b[43m[\u001b[49m\u001b[38;5;124;43m\"\u001b[39;49m\u001b[38;5;124;43mshell\u001b[39;49m\u001b[38;5;124;43m\"\u001b[39;49m\u001b[43m]\u001b[49m\u001b[43m,\u001b[49m\n\u001b[1;32m   1285\u001b[0m \u001b[43m    \u001b[49m\u001b[38;5;28;43mself\u001b[39;49m\u001b[38;5;241;43m.\u001b[39;49m\u001b[43mget_parent\u001b[49m\u001b[43m(\u001b[49m\u001b[38;5;124;43m\"\u001b[39;49m\u001b[38;5;124;43mshell\u001b[39;49m\u001b[38;5;124;43m\"\u001b[39;49m\u001b[43m)\u001b[49m\u001b[43m,\u001b[49m\n\u001b[1;32m   1286\u001b[0m \u001b[43m    \u001b[49m\u001b[43mpassword\u001b[49m\u001b[38;5;241;43m=\u001b[39;49m\u001b[38;5;28;43;01mFalse\u001b[39;49;00m\u001b[43m,\u001b[49m\n\u001b[1;32m   1287\u001b[0m \u001b[43m\u001b[49m\u001b[43m)\u001b[49m\n",
      "File \u001b[0;32m/usr/lib/python3/dist-packages/ipykernel/kernelbase.py:1325\u001b[0m, in \u001b[0;36mKernel._input_request\u001b[0;34m(self, prompt, ident, parent, password)\u001b[0m\n\u001b[1;32m   1322\u001b[0m \u001b[38;5;28;01mexcept\u001b[39;00m \u001b[38;5;167;01mKeyboardInterrupt\u001b[39;00m:\n\u001b[1;32m   1323\u001b[0m     \u001b[38;5;66;03m# re-raise KeyboardInterrupt, to truncate traceback\u001b[39;00m\n\u001b[1;32m   1324\u001b[0m     msg \u001b[38;5;241m=\u001b[39m \u001b[38;5;124m\"\u001b[39m\u001b[38;5;124mInterrupted by user\u001b[39m\u001b[38;5;124m\"\u001b[39m\n\u001b[0;32m-> 1325\u001b[0m     \u001b[38;5;28;01mraise\u001b[39;00m \u001b[38;5;167;01mKeyboardInterrupt\u001b[39;00m(msg) \u001b[38;5;28;01mfrom\u001b[39;00m \u001b[38;5;28;01mNone\u001b[39;00m\n\u001b[1;32m   1326\u001b[0m \u001b[38;5;28;01mexcept\u001b[39;00m \u001b[38;5;167;01mException\u001b[39;00m:\n\u001b[1;32m   1327\u001b[0m     \u001b[38;5;28mself\u001b[39m\u001b[38;5;241m.\u001b[39mlog\u001b[38;5;241m.\u001b[39mwarning(\u001b[38;5;124m\"\u001b[39m\u001b[38;5;124mInvalid Message:\u001b[39m\u001b[38;5;124m\"\u001b[39m, exc_info\u001b[38;5;241m=\u001b[39m\u001b[38;5;28;01mTrue\u001b[39;00m)\n",
      "\u001b[0;31mKeyboardInterrupt\u001b[0m: Interrupted by user"
     ]
    }
   ],
   "source": [
    "answer_list = []\n",
    "for i in Question_lib.keys():\n",
    "    print(f\"Question ({i}):\")\n",
    "    for k in Question_lib[i]:\n",
    "        print(k)\n",
    "        entry=input(\"Enter in your answer here: \")\n",
    "        answer_list.append(entry)\n",
    "    answer_list\n",
    "    "
   ]
  },
  {
   "cell_type": "code",
   "execution_count": null,
   "id": "c98ba1b8",
   "metadata": {},
   "outputs": [],
   "source": []
  }
 ],
 "metadata": {
  "kernelspec": {
   "display_name": "Python 3 (ipykernel)",
   "language": "python",
   "name": "python3"
  },
  "language_info": {
   "codemirror_mode": {
    "name": "ipython",
    "version": 3
   },
   "file_extension": ".py",
   "mimetype": "text/x-python",
   "name": "python",
   "nbconvert_exporter": "python",
   "pygments_lexer": "ipython3",
   "version": "3.12.3"
  }
 },
 "nbformat": 4,
 "nbformat_minor": 5
}
