{
 "cells": [
  {
   "cell_type": "code",
   "execution_count": 8,
   "id": "e784234d",
   "metadata": {},
   "outputs": [],
   "source": [
    "import random\n",
    "# Basically, this is to create our test data in a csv format, except we are not making a csv.\n",
    "\n",
    "cols_and_rows = {'STUDENT': [], 'GENDER': [],\n",
    "        'AGE': [], 'HEIGHT': [], 'WEIGHT': [], 'TEST_SCORE': []}\n",
    "# we have to import the random module to make sure the data we enter is randomized.\n",
    "\n",
    "gender_dict = {\n",
    "    'M': 0,\n",
    "    'F': 1\n",
    "}"
   ]
  },
  {
   "cell_type": "code",
   "execution_count": 11,
   "id": "274f0b26",
   "metadata": {},
   "outputs": [
    {
     "name": "stdout",
     "output_type": "stream",
     "text": [
      "STUDENT\n",
      "GENDER\n",
      "AGE\n",
      "HEIGHT\n",
      "WEIGHT\n",
      "TEST_SCORE\n"
     ]
    }
   ],
   "source": [
    "for i in cols_and_rows.keys():\n",
    "    print(i)"
   ]
  },
  {
   "cell_type": "code",
   "execution_count": 4,
   "id": "979a4bb0",
   "metadata": {},
   "outputs": [
    {
     "name": "stdout",
     "output_type": "stream",
     "text": [
      "0\n"
     ]
    }
   ],
   "source": [
    "# We want to make some binary loop conditions. This is one part of a function that will go from the range(0,16).\n",
    "for i in range(1):\n",
    "    Gender = random.randint(0,2)\n",
    "    if gender_dict['M']==Gender:\n",
    "        print(gender_dict['M'])\n",
    "    else:\n",
    "        print(gender_dict['F'])"
   ]
  },
  {
   "cell_type": "code",
   "execution_count": 5,
   "id": "67855886",
   "metadata": {},
   "outputs": [
    {
     "data": {
      "text/plain": [
       "0"
      ]
     },
     "execution_count": 5,
     "metadata": {},
     "output_type": "execute_result"
    }
   ],
   "source": [
    "gender_dict['M']"
   ]
  },
  {
   "cell_type": "code",
   "execution_count": 22,
   "id": "4387e3d1",
   "metadata": {},
   "outputs": [
    {
     "data": {
      "text/plain": [
       "list"
      ]
     },
     "execution_count": 22,
     "metadata": {},
     "output_type": "execute_result"
    }
   ],
   "source": [
    "def random_vars():\n",
    "    Age = random.randint(18,100)\n",
    "    Gender = random.randint(0,2)\n",
    "    Height = random.randint(159,171)\n",
    "    Weight = random.randint(100,200)\n",
    "    Test_Score = random.randint(0,100)\n",
    "    return [Gender, Age, Height, Weight, Test_Score]\n",
    "type(random_vars())"
   ]
  },
  {
   "cell_type": "code",
   "execution_count": 59,
   "id": "80721f59",
   "metadata": {},
   "outputs": [],
   "source": [
    "def func(var):\n",
    "    for k in cols_and_rows.keys():\n",
    "        for i in range(0,25):\n",
    "            random_list = list([i])\n",
    "            random_list.append(var)\n",
    "            for j in range(len(random_list)):\n",
    "                cols_and_rows[k].append(random_list[j])\n",
    "        \n",
    "    return cols_and_rows\n",
    "\n",
    "\n",
    "var = random_vars()\n",
    "random_data = func(var)"
   ]
  },
  {
   "cell_type": "code",
   "execution_count": 61,
   "id": "7bccd626",
   "metadata": {},
   "outputs": [
    {
     "data": {
      "text/plain": [
       "906"
      ]
     },
     "execution_count": 61,
     "metadata": {},
     "output_type": "execute_result"
    }
   ],
   "source": [
    "len(random_data['TEST_SCORE'])"
   ]
  },
  {
   "cell_type": "code",
   "execution_count": null,
   "id": "c5fd106f",
   "metadata": {},
   "outputs": [],
   "source": []
  }
 ],
 "metadata": {
  "kernelspec": {
   "display_name": "Python 3 (ipykernel)",
   "language": "python",
   "name": "python3"
  },
  "language_info": {
   "codemirror_mode": {
    "name": "ipython",
    "version": 3
   },
   "file_extension": ".py",
   "mimetype": "text/x-python",
   "name": "python",
   "nbconvert_exporter": "python",
   "pygments_lexer": "ipython3",
   "version": "3.12.3"
  }
 },
 "nbformat": 4,
 "nbformat_minor": 5
}
