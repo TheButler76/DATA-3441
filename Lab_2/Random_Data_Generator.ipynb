{
 "cells": [
  {
   "cell_type": "code",
   "execution_count": 141,
   "id": "e784234d",
   "metadata": {},
   "outputs": [],
   "source": [
    "import random\n",
    "# Basically, this is to create our test data in a csv format, except we are not making a csv.\n",
    "#== Create the skeleton ===============================================================================================================\n",
    "\n",
    "data_frame = {'STUDENT': [], 'GENDER': [],\n",
    "                 'AGE': [], 'HEIGHT': [],\n",
    "                 'WEIGHT': [], 'TEST_SCORE': []\n",
    "                }\n",
    "#==== Randomize our variables ===============================================================================================================\n",
    "\n",
    "def data_rand():\n",
    "    Gender = random.choice(['M','F'])\n",
    "    Age = random.randint(18,100)\n",
    "    Height = random.randint(159,171)\n",
    "    Weight = random.randint(100,200)\n",
    "    Test_Score = random.randint(50,100)\n",
    "    return {\n",
    "        'GENDER': Gender, 'AGE': Age,\n",
    "        'HEIGHT': Height, 'WEIGHT': Weight,\n",
    "        'TEST_SCORE':Test_Score\n",
    "    }\n",
    "#==== Function to run randomization ===============================================================================================================\n",
    "\n",
    "def populate_dataframe(df, num_rows):\n",
    "    for i in range(num_rows):\n",
    "        data_frame['STUDENT'].append(i + 1)\n",
    "\n",
    "        row_data = data_rand()\n",
    "        data_frame['GENDER'].append(row_data['GENDER'])\n",
    "        data_frame['AGE'].append(row_data['AGE'])\n",
    "        data_frame['HEIGHT'].append(row_data['HEIGHT'])\n",
    "        data_frame['WEIGHT'].append(row_data['WEIGHT'])\n",
    "        data_frame['TEST_SCORE'].append(row_data['TEST_SCORE'])\n",
    "    return data_frame\n",
    "#==== Testing here ==============================================================================================================="
   ]
  },
  {
   "cell_type": "code",
   "execution_count": 145,
   "id": "87638076-b58d-42ef-9f78-d1896fc067b2",
   "metadata": {},
   "outputs": [],
   "source": [
    "def matrix_create(data, n):\n",
    "    matrix = []\n",
    "    for i in range(n):\n",
    "        row = [\n",
    "            random_data['STUDENT'][i],\n",
    "            random_data['GENDER'][i],\n",
    "            random_data['AGE'][i],\n",
    "            random_data['HEIGHT'][i],\n",
    "            random_data['WEIGHT'][i],\n",
    "            random_data['TEST_SCORE'][i]\n",
    "        ]\n",
    "        matrix.append(row)\n",
    "    return matrix\n",
    "random_data = populate_dataframe(data_frame, 36)\n",
    "sample_data = matrix_create(random_data, 36)"
   ]
  },
  {
   "cell_type": "code",
   "execution_count": 146,
   "id": "498875eb-80f6-4c7d-bb58-778467128118",
   "metadata": {},
   "outputs": [
    {
     "name": "stdout",
     "output_type": "stream",
     "text": [
      "[1, 'M', 71, 163, 152, 58]\n",
      "[2, 'F', 54, 163, 145, 57]\n",
      "[3, 'M', 60, 165, 174, 56]\n",
      "[4, 'F', 19, 163, 110, 51]\n",
      "[5, 'F', 68, 167, 187, 52]\n",
      "[6, 'M', 66, 165, 150, 86]\n",
      "[7, 'M', 46, 170, 118, 76]\n",
      "[8, 'M', 70, 168, 200, 67]\n",
      "[9, 'F', 91, 161, 157, 100]\n",
      "[10, 'F', 99, 167, 145, 51]\n",
      "[11, 'F', 72, 168, 175, 88]\n",
      "[12, 'M', 73, 170, 193, 65]\n",
      "[13, 'M', 54, 167, 106, 76]\n",
      "[14, 'M', 23, 171, 157, 88]\n",
      "[15, 'M', 37, 161, 124, 91]\n",
      "[16, 'F', 46, 160, 162, 67]\n",
      "[17, 'F', 81, 167, 187, 81]\n",
      "[18, 'F', 93, 165, 124, 74]\n",
      "[19, 'M', 23, 168, 152, 88]\n",
      "[20, 'F', 52, 167, 126, 54]\n",
      "[21, 'M', 33, 159, 141, 95]\n",
      "[22, 'F', 91, 168, 111, 99]\n",
      "[23, 'F', 90, 166, 126, 86]\n",
      "[24, 'F', 46, 170, 139, 91]\n",
      "[25, 'M', 73, 171, 172, 52]\n",
      "[26, 'M', 35, 170, 172, 65]\n",
      "[27, 'M', 80, 165, 153, 60]\n",
      "[28, 'F', 97, 171, 136, 81]\n",
      "[29, 'M', 25, 167, 124, 79]\n",
      "[30, 'M', 64, 162, 110, 95]\n",
      "[31, 'F', 40, 171, 184, 86]\n",
      "[32, 'F', 78, 164, 189, 63]\n",
      "[33, 'M', 45, 170, 110, 55]\n",
      "[34, 'M', 22, 169, 192, 77]\n",
      "[35, 'M', 65, 165, 120, 100]\n",
      "[36, 'M', 93, 167, 157, 94]\n"
     ]
    }
   ],
   "source": [
    "for row in sample_data:\n",
    "    print(row)"
   ]
  },
  {
   "cell_type": "code",
   "execution_count": null,
   "id": "8c7e5398-3938-4f8b-92b8-42e9fa7dcca9",
   "metadata": {},
   "outputs": [],
   "source": []
  }
 ],
 "metadata": {
  "kernelspec": {
   "display_name": "Python 3 (ipykernel)",
   "language": "python",
   "name": "python3"
  },
  "language_info": {
   "codemirror_mode": {
    "name": "ipython",
    "version": 3
   },
   "file_extension": ".py",
   "mimetype": "text/x-python",
   "name": "python",
   "nbconvert_exporter": "python",
   "pygments_lexer": "ipython3",
   "version": "3.10.12"
  }
 },
 "nbformat": 4,
 "nbformat_minor": 5
}
