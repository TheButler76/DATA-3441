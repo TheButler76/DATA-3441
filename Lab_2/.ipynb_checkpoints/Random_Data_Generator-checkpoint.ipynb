{
 "cells": [
  {
   "cell_type": "code",
   "execution_count": 21,
   "id": "e784234d",
   "metadata": {},
   "outputs": [],
   "source": [
    "import random\n",
    "# Basically, this is to create our test data in a csv format, except we are not making a csv.\n",
    "\n",
    "cols_and_rows = {'STUDENT': [], 'GENDER': [],\n",
    "        'AGE': [], 'HEIGHT': [], 'WEIGHT': [], 'TEST_SCORE': []}\n",
    "# we have to import the random module to make sure the data we enter is randomized.\n",
    "\n",
    "gender_dict = {\n",
    "    'M': 0,\n",
    "    'F': 1\n",
    "}"
   ]
  },
  {
   "cell_type": "code",
   "execution_count": 38,
   "id": "979a4bb0",
   "metadata": {},
   "outputs": [
    {
     "name": "stdout",
     "output_type": "stream",
     "text": [
      "1\n"
     ]
    }
   ],
   "source": [
    "# We want to make some binary loop conditions. This is one part of a function that will go from the range(0,16).\n",
    "for i in range(1):\n",
    "    binary = random.randint(0,2)\n",
    "    if gender_dict['M']==binary:\n",
    "        print(gender_dict['M'])\n",
    "    else:\n",
    "        print(gender_dict['F'])"
   ]
  },
  {
   "cell_type": "code",
   "execution_count": 37,
   "id": "67855886",
   "metadata": {},
   "outputs": [
    {
     "ename": "KeyError",
     "evalue": "0",
     "output_type": "error",
     "traceback": [
      "\u001b[0;31m---------------------------------------------------------------------------\u001b[0m",
      "\u001b[0;31mKeyError\u001b[0m                                  Traceback (most recent call last)",
      "Cell \u001b[0;32mIn[37], line 1\u001b[0m\n\u001b[0;32m----> 1\u001b[0m \u001b[43mgender_dict\u001b[49m\u001b[43m[\u001b[49m\u001b[38;5;241;43m0\u001b[39;49m\u001b[43m]\u001b[49m\n",
      "\u001b[0;31mKeyError\u001b[0m: 0"
     ]
    }
   ],
   "source": [
    "gender_dict[0]"
   ]
  },
  {
   "cell_type": "code",
   "execution_count": null,
   "id": "4387e3d1",
   "metadata": {},
   "outputs": [],
   "source": []
  }
 ],
 "metadata": {
  "kernelspec": {
   "display_name": "Python 3 (ipykernel)",
   "language": "python",
   "name": "python3"
  },
  "language_info": {
   "codemirror_mode": {
    "name": "ipython",
    "version": 3
   },
   "file_extension": ".py",
   "mimetype": "text/x-python",
   "name": "python",
   "nbconvert_exporter": "python",
   "pygments_lexer": "ipython3",
   "version": "3.12.3"
  }
 },
 "nbformat": 4,
 "nbformat_minor": 5
}
